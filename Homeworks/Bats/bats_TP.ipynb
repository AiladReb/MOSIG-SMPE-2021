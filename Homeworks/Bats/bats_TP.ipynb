{
 "cells": [
  {
   "cell_type": "code",
   "execution_count": 24,
   "id": "c0d9099d",
   "metadata": {},
   "outputs": [],
   "source": [
    "library(tidyverse)\n",
    "library(ggplot2)\n",
    "library(corrplot)"
   ]
  },
  {
   "cell_type": "code",
   "execution_count": 25,
   "id": "6a5899a0",
   "metadata": {
    "scrolled": true
   },
   "outputs": [
    {
     "data": {
      "text/html": [
       "<ol class=list-inline>\n",
       "\t<li>'Species'</li>\n",
       "\t<li>'Diet'</li>\n",
       "\t<li>'Clade'</li>\n",
       "\t<li>'BOW'</li>\n",
       "\t<li>'BRW'</li>\n",
       "\t<li>'AUD'</li>\n",
       "\t<li>'MOB'</li>\n",
       "\t<li>'HIP'</li>\n",
       "</ol>\n"
      ],
      "text/latex": [
       "\\begin{enumerate*}\n",
       "\\item 'Species'\n",
       "\\item 'Diet'\n",
       "\\item 'Clade'\n",
       "\\item 'BOW'\n",
       "\\item 'BRW'\n",
       "\\item 'AUD'\n",
       "\\item 'MOB'\n",
       "\\item 'HIP'\n",
       "\\end{enumerate*}\n"
      ],
      "text/markdown": [
       "1. 'Species'\n",
       "2. 'Diet'\n",
       "3. 'Clade'\n",
       "4. 'BOW'\n",
       "5. 'BRW'\n",
       "6. 'AUD'\n",
       "7. 'MOB'\n",
       "8. 'HIP'\n",
       "\n",
       "\n"
      ],
      "text/plain": [
       "[1] \"Species\" \"Diet\"    \"Clade\"   \"BOW\"     \"BRW\"     \"AUD\"     \"MOB\"    \n",
       "[8] \"HIP\"    "
      ]
     },
     "metadata": {},
     "output_type": "display_data"
    }
   ],
   "source": [
    "myData <- read.table(file=\"bats.csv\", sep=\";\", skip=3, header=T)\n",
    "names(myData)"
   ]
  },
  {
   "cell_type": "markdown",
   "id": "7bdccd24",
   "metadata": {},
   "source": [
    "## Study of the relationship between brain weight and body mass"
   ]
  },
  {
   "cell_type": "code",
   "execution_count": 26,
   "id": "1f902ba2",
   "metadata": {},
   "outputs": [
    {
     "data": {
      "image/png": "[encoded data removed]",
      "text/plain": [
       "plot without title"
      ]
     },
     "metadata": {},
     "output_type": "display_data"
    }
   ],
   "source": [
    "\n",
    "phyto = myData[(myData$Diet==1),]\n",
    "ggplot(myData, aes(x=BOW, y=BRW)) + geom_point() +\n",
    "xlab(\"Body mass (g)\") + ylab(\"Brain mass (mg)\") "
   ]
  },
  {
   "cell_type": "code",
   "execution_count": 27,
   "id": "4e98ee17",
   "metadata": {},
   "outputs": [
    {
     "data": {
      "text/plain": [
       "\n",
       "Call:\n",
       "lm(formula = BRW ~ BOW, data = phyto)\n",
       "\n",
       "Residuals:\n",
       "    Min      1Q  Median      3Q     Max \n",
       "-628.32 -233.94  -65.74  158.26 1308.59 \n",
       "\n",
       "Coefficients:\n",
       "            Estimate Std. Error t value Pr(>|t|)    \n",
       "(Intercept) 623.4469    81.4762   7.652 3.14e-08 ***\n",
       "BOW           8.9999     0.3972  22.659  < 2e-16 ***\n",
       "---\n",
       "Signif. codes:  0 '***' 0.001 '**' 0.01 '*' 0.05 '.' 0.1 ' ' 1\n",
       "\n",
       "Residual standard error: 396.9 on 27 degrees of freedom\n",
       "Multiple R-squared:   0.95,\tAdjusted R-squared:  0.9482 \n",
       "F-statistic: 513.4 on 1 and 27 DF,  p-value: < 2.2e-16\n"
      ]
     },
     "metadata": {},
     "output_type": "display_data"
    }
   ],
   "source": [
    "reg1 = lm(BRW ~ BOW, data=phyto)\n",
    "summary(reg1)"
   ]
  },
  {
   "cell_type": "markdown",
   "id": "6ca72b76",
   "metadata": {},
   "source": [
    "From the table above we can read these information:\n",
    "\n",
    "   0. The mathematical formula of the model is $BRM = 8.99*BOW + 623.44$\n",
    "   1. The estimate of the intercept = $623.4469$\n",
    "   2. Test statistic = $22.659$\n",
    "   3. H0 is the null hypothesis making an hypothesis that the coefficient $\\beta_1$ is equal to zero and it's rejected because its corresponding p-value is less than $0.5$\n",
    "   4. As H0 is rejected, than we can concluse that there is a indeed a relationship between Brain Weight variable and Body Mass variable. \n",
    "   5. The coefficient of determination ($R^2$) is equal to $0.95$ which means that the variation is well explained by the model"
   ]
  },
  {
   "cell_type": "markdown",
   "id": "706dcea1",
   "metadata": {},
   "source": [
    "#**Interpretation** \n",
    "\n",
    "When p Value is less than significance level (< 0.05), we can safely reject the null hypothesis that the co-efficient β of the predictor is zero. In our case, both these p-Values are well below the 0.05 threshold, so we can conclude our model is indeed statistically significant.\n",
    "\n",
    "It is absolutely important for the model to be statistically significant before we can go ahead and use it to predict (or estimate) the dependent variable, otherwise, the confidence in predicted values from that model reduces and may be construed as an event of chance.\n",
    "\n",
    "Also, for F-statistic, the larger it os, the more likely it is that the variation caused by the independent variable is real and not due to chance"
   ]
  },
  {
   "cell_type": "code",
   "execution_count": 28,
   "id": "eadc71ab",
   "metadata": {
    "scrolled": true
   },
   "outputs": [
    {
     "data": {
      "text/html": [
       "<table>\n",
       "<thead><tr><th></th><th scope=col>Df</th><th scope=col>Sum Sq</th><th scope=col>Mean Sq</th><th scope=col>F value</th><th scope=col>Pr(&gt;F)</th></tr></thead>\n",
       "<tbody>\n",
       "\t<tr><th scope=row>BOW</th><td> 1          </td><td>80888380    </td><td>80888379.9  </td><td>513.4154    </td><td>4.208907e-19</td></tr>\n",
       "\t<tr><th scope=row>Residuals</th><td>27          </td><td> 4253838    </td><td>  157549.6  </td><td>      NA    </td><td>          NA</td></tr>\n",
       "</tbody>\n",
       "</table>\n"
      ],
      "text/latex": [
       "\\begin{tabular}{r|lllll}\n",
       "  & Df & Sum Sq & Mean Sq & F value & Pr(>F)\\\\\n",
       "\\hline\n",
       "\tBOW &  1           & 80888380     & 80888379.9   & 513.4154     & 4.208907e-19\\\\\n",
       "\tResiduals & 27           &  4253838     &   157549.6   &       NA     &           NA\\\\\n",
       "\\end{tabular}\n"
      ],
      "text/markdown": [
       "\n",
       "| <!--/--> | Df | Sum Sq | Mean Sq | F value | Pr(>F) |\n",
       "|---|---|---|---|---|---|\n",
       "| BOW |  1           | 80888380     | 80888379.9   | 513.4154     | 4.208907e-19 |\n",
       "| Residuals | 27           |  4253838     |   157549.6   |       NA     |           NA |\n",
       "\n"
      ],
      "text/plain": [
       "          Df Sum Sq   Mean Sq    F value  Pr(>F)      \n",
       "BOW        1 80888380 80888379.9 513.4154 4.208907e-19\n",
       "Residuals 27  4253838   157549.6       NA           NA"
      ]
     },
     "metadata": {},
     "output_type": "display_data"
    }
   ],
   "source": [
    "anova(reg1)"
   ]
  },
  {
   "cell_type": "markdown",
   "id": "eb355c70",
   "metadata": {},
   "source": [
    "We get a little different information in the anova() function about the variation of data:\n",
    "\n",
    "1. degrees of freedom, \n",
    "2. sum of squares( the total variation between the group means and the overall mean) \n",
    "3. mean squares (calculated by dividing the sum of squares by the degrees of freedom for each parameter).\n",
    "\n",
    "small p-values comes from large F-statistics, and large F-statistics suggest that the between group variance is much larger than the within-group variance. So when the differences in group means is larger and yet the groups are not that variable, we tend to have significant factors in our ANOVA"
   ]
  },
  {
   "cell_type": "code",
   "execution_count": 42,
   "id": "4d8748af",
   "metadata": {},
   "outputs": [
    {
     "data": {
      "image/png": "[encoded data removed]",
      "text/plain": [
       "plot without title"
      ]
     },
     "metadata": {},
     "output_type": "display_data"
    }
   ],
   "source": [
    "plot(reg1$fitted.values, reg1$residuals, xlab=\"Predicted\", ylab=\"Residuals\", asp = 4)"
   ]
  },
  {
   "cell_type": "markdown",
   "id": "69c47367",
   "metadata": {},
   "source": [
    "#**Note**: In this interpretation, we consider the absolute value of the residuals so as we can talk only about how far the predicted values are from the real ones.\n",
    "\n",
    "From the graph above showing the residual values according to the predicted ones, we can notice that for the predicted brain mass values belonging to $[500mg -2000mg]$, the residual values ( representing the difference between the observed value of the variable to be explained (Brain Mass in our case) and its estimate ) are less significant comparing to the values greater than 2000mg whose corresponding residual values are important mainly for the last point whose predicted value is approaching 10000mg.   "
   ]
  },
  {
   "cell_type": "code",
   "execution_count": 32,
   "id": "7fe2bc61",
   "metadata": {},
   "outputs": [
    {
     "data": {
      "image/png": "[encoded data removed]",
      "text/plain": [
       "Plot with title \"\""
      ]
     },
     "metadata": {},
     "output_type": "display_data"
    }
   ],
   "source": [
    "plot(reg1,4)"
   ]
  },
  {
   "cell_type": "markdown",
   "id": "aeff4b3b",
   "metadata": {},
   "source": [
    "Cook's distance allows us to find influential *outliers* in a set of predictor variables. In other words, it’s a way to identify points that negatively affect your regression model.\n",
    "In our case, it's the outlier is the variable 7 corresponding to phyto[7] whose caracteristics are described below. "
   ]
  },
  {
   "cell_type": "code",
   "execution_count": 38,
   "id": "d5a95272",
   "metadata": {},
   "outputs": [
    {
     "data": {
      "text/html": [
       "<table>\n",
       "<thead><tr><th></th><th scope=col>Species</th><th scope=col>Diet</th><th scope=col>Clade</th><th scope=col>BOW</th><th scope=col>BRW</th><th scope=col>AUD</th><th scope=col>MOB</th><th scope=col>HIP</th></tr></thead>\n",
       "<tbody>\n",
       "\t<tr><th scope=row>7</th><td> Pteropus  vampyrus </td><td>1                   </td><td>I                   </td><td>1014                </td><td>9121                </td><td>16.93               </td><td>243.54              </td><td>331.29              </td></tr>\n",
       "</tbody>\n",
       "</table>\n"
      ],
      "text/latex": [
       "\\begin{tabular}{r|llllllll}\n",
       "  & Species & Diet & Clade & BOW & BRW & AUD & MOB & HIP\\\\\n",
       "\\hline\n",
       "\t7 &  Pteropus  vampyrus  & 1                    & I                    & 1014                 & 9121                 & 16.93                & 243.54               & 331.29              \\\\\n",
       "\\end{tabular}\n"
      ],
      "text/markdown": [
       "\n",
       "| <!--/--> | Species | Diet | Clade | BOW | BRW | AUD | MOB | HIP |\n",
       "|---|---|---|---|---|---|---|---|---|\n",
       "| 7 |  Pteropus  vampyrus  | 1                    | I                    | 1014                 | 9121                 | 16.93                | 243.54               | 331.29               |\n",
       "\n"
      ],
      "text/plain": [
       "  Species              Diet Clade BOW  BRW  AUD   MOB    HIP   \n",
       "7  Pteropus  vampyrus  1    I     1014 9121 16.93 243.54 331.29"
      ]
     },
     "metadata": {},
     "output_type": "display_data"
    }
   ],
   "source": [
    "phyto[7,]"
   ]
  },
  {
   "cell_type": "code",
   "execution_count": 39,
   "id": "cb2c0078",
   "metadata": {},
   "outputs": [
    {
     "data": {
      "text/plain": [
       "\n",
       "Call:\n",
       "lm(formula = BRW ~ BOW, data = phytobis)\n",
       "\n",
       "Residuals:\n",
       "    Min      1Q  Median      3Q     Max \n",
       "-269.76  -93.33    8.73  112.93  322.55 \n",
       "\n",
       "Coefficients:\n",
       "            Estimate Std. Error t value Pr(>|t|)    \n",
       "(Intercept) 346.5452    35.4920   9.764 3.48e-10 ***\n",
       "BOW          14.5099     0.4285  33.860  < 2e-16 ***\n",
       "---\n",
       "Signif. codes:  0 '***' 0.001 '**' 0.01 '*' 0.05 '.' 0.1 ' ' 1\n",
       "\n",
       "Residual standard error: 141.8 on 26 degrees of freedom\n",
       "Multiple R-squared:  0.9778,\tAdjusted R-squared:  0.977 \n",
       "F-statistic:  1147 on 1 and 26 DF,  p-value: < 2.2e-16\n"
      ]
     },
     "metadata": {},
     "output_type": "display_data"
    }
   ],
   "source": [
    "phytobis=phyto[which(phyto$BRW<8000),]\n",
    "reg2 = lm(BRW ~ BOW, data=phytobis)\n",
    "summary(reg2)"
   ]
  },
  {
   "cell_type": "markdown",
   "id": "2a74cfb8",
   "metadata": {},
   "source": [
    "After deleting the outlier from data, we've got:\n",
    "\n",
    "   0. Another mathematical formula of the model: $BRM = 14.51*BOW + 346.54$\n",
    "   1. A better coefficient of determination.\n",
    "   2. A less p-value and a higher t-value\n",
    "   3. The directing coefficient is lower which means that the line obtained from the linear regression has a less sloap, thus getting closer to each point in the graph\n",
    "   "
   ]
  },
  {
   "cell_type": "code",
   "execution_count": 8,
   "id": "059a7f13",
   "metadata": {
    "scrolled": false
   },
   "outputs": [
    {
     "data": {
      "image/png": "[encoded data removed]",
      "text/plain": [
       "Plot with title \"\""
      ]
     },
     "metadata": {},
     "output_type": "display_data"
    }
   ],
   "source": [
    "par(mfcol=c(2,2))\n",
    "plot(reg1)"
   ]
  },
  {
   "cell_type": "code",
   "execution_count": 18,
   "id": "076116d2",
   "metadata": {},
   "outputs": [
    {
     "data": {
      "image/png": "[encoded data removed]",
      "text/plain": [
       "Plot with title \"\""
      ]
     },
     "metadata": {},
     "output_type": "display_data"
    }
   ],
   "source": [
    "par(mfcol=c(2,2))\n",
    "plot(reg2)"
   ]
  },
  {
   "cell_type": "markdown",
   "id": "2f313c48",
   "metadata": {},
   "source": [
    "From Normal Q-Q plot, we can easily notice that the one obtained using Reg2 is much better than the one obtained using Reg1 as the line in its plot pass moslty through all points which means that it follows the normal distribution.\n",
    "Then, we can conclude that the original data (before removing the 7th bat) are unbalanced beacause the study repots, in a large part, data about bats with slight brainweight."
   ]
  },
  {
   "cell_type": "markdown",
   "id": "be2474d6",
   "metadata": {},
   "source": [
    "## Study of the contribution to the total weight of each part of the brain"
   ]
  },
  {
   "cell_type": "markdown",
   "id": "3e0d7aa4",
   "metadata": {},
   "source": [
    "In this part, we try to understand the contribution of each part of the brain to the total weight. The variable to explain is the total weight of the brain (variable BRW). The potentially explanatory variables are the volume of the auditory part of the brain (variable AUD), the volume of the olfactory zone (MOB), and the volume of the hippocampus (HIP). Again, we work only with phytophagous species."
   ]
  },
  {
   "cell_type": "code",
   "execution_count": 9,
   "id": "817f82c1",
   "metadata": {},
   "outputs": [
    {
     "data": {
      "image/png": "[encoded data removed]",
      "text/plain": [
       "Plot with title \"\""
      ]
     },
     "metadata": {},
     "output_type": "display_data"
    }
   ],
   "source": [
    "phytoNum=phyto[, c(4:8)]\n",
    "mat.cor=cor(phytoNum)\n",
    "corrplot(mat.cor, type=\"upper\")"
   ]
  },
  {
   "cell_type": "markdown",
   "id": "f2e30db7",
   "metadata": {},
   "source": [
    "This graph showing the correlation of the variables two by two is very meaningful and easy to understand. \n",
    "As we want to explain the Brain Weight variable, we then focus on the second row and the second column of the graph showing that the variables BOW and HIP have a huge influence on BRW. Same for MOB but with less influence. Except for AUD which has almost no influence.\n"
   ]
  },
  {
   "cell_type": "code",
   "execution_count": 40,
   "id": "989ea444",
   "metadata": {
    "scrolled": false
   },
   "outputs": [
    {
     "data": {
      "text/plain": [
       "\n",
       "\tPearson's product-moment correlation\n",
       "\n",
       "data:  phyto$BRW and phyto$HIP\n",
       "t = 12.91, df = 27, p-value = 4.574e-13\n",
       "alternative hypothesis: true correlation is not equal to 0\n",
       "95 percent confidence interval:\n",
       " 0.8502663 0.9658107\n",
       "sample estimates:\n",
       "      cor \n",
       "0.9276811 \n"
      ]
     },
     "metadata": {},
     "output_type": "display_data"
    },
    {
     "data": {
      "text/plain": [
       "\n",
       "\tPearson's product-moment correlation\n",
       "\n",
       "data:  phyto$BRW and phyto$MOB\n",
       "t = 9.7964, df = 27, p-value = 2.203e-10\n",
       "alternative hypothesis: true correlation is not equal to 0\n",
       "95 percent confidence interval:\n",
       " 0.7644185 0.9442114\n",
       "sample estimates:\n",
       "      cor \n",
       "0.8834215 \n"
      ]
     },
     "metadata": {},
     "output_type": "display_data"
    },
    {
     "data": {
      "text/plain": [
       "\n",
       "\tPearson's product-moment correlation\n",
       "\n",
       "data:  phyto$BRW and phyto$AUD\n",
       "t = 3.2338, df = 27, p-value = 0.003215\n",
       "alternative hypothesis: true correlation is not equal to 0\n",
       "95 percent confidence interval:\n",
       " 0.2007495 0.7497021\n",
       "sample estimates:\n",
       "      cor \n",
       "0.5283792 \n"
      ]
     },
     "metadata": {},
     "output_type": "display_data"
    }
   ],
   "source": [
    "cor.test(phyto$BRW,phyto$HIP)\n",
    "cor.test(phyto$BRW,phyto$MOB)\n",
    "cor.test(phyto$BRW,phyto$AUD)"
   ]
  },
  {
   "cell_type": "markdown",
   "id": "a88d93df",
   "metadata": {},
   "source": [
    "These returned results approved totally what we said above based on the correlation graph. i.e. HIP and MOB have a significant influence on BRW because they have a correlation with BRW equal to 0.92 and 0.88 respectively. Unlike AUD variable having a correlation equal 0.52 which means that it has barely no influence to the BRW.\n",
    "\n",
    "In other words, the brain weight increases/decreases when the volume of the olfactory zone (MOB) and the volume of the hippocampus (HIP) (both correlated based on the previous graph) increases/decreases. Same thing for Body Mass (based on the first part). However, the auditory part volume of the brain has no relationship with brain weight."
   ]
  },
  {
   "cell_type": "code",
   "execution_count": 41,
   "id": "0f67470e",
   "metadata": {},
   "outputs": [
    {
     "data": {
      "text/plain": [
       "\n",
       "Call:\n",
       "lm(formula = BRW ~ AUD + MOB + HIP, data = phytobis)\n",
       "\n",
       "Residuals:\n",
       "    Min      1Q  Median      3Q     Max \n",
       "-268.55  -68.84    9.88   61.66  375.34 \n",
       "\n",
       "Coefficients:\n",
       "            Estimate Std. Error t value Pr(>|t|)    \n",
       "(Intercept) -312.692     76.628  -4.081  0.00043 ***\n",
       "AUD           47.989      6.067   7.910 3.85e-08 ***\n",
       "MOB           -2.444      3.257  -0.750  0.46034    \n",
       "HIP           15.981      2.960   5.399 1.52e-05 ***\n",
       "---\n",
       "Signif. codes:  0 '***' 0.001 '**' 0.01 '*' 0.05 '.' 0.1 ' ' 1\n",
       "\n",
       "Residual standard error: 158.5 on 24 degrees of freedom\n",
       "Multiple R-squared:  0.9744,\tAdjusted R-squared:  0.9712 \n",
       "F-statistic: 304.5 on 3 and 24 DF,  p-value: < 2.2e-16\n"
      ]
     },
     "metadata": {},
     "output_type": "display_data"
    },
    {
     "data": {
      "text/html": [
       "<table>\n",
       "<thead><tr><th></th><th scope=col>Df</th><th scope=col>Sum Sq</th><th scope=col>Mean Sq</th><th scope=col>F value</th><th scope=col>Pr(&gt;F)</th></tr></thead>\n",
       "<tbody>\n",
       "\t<tr><th scope=row>AUD</th><td> 1          </td><td> 6817133.4  </td><td> 6817133.42 </td><td>271.20969   </td><td>1.397093e-14</td></tr>\n",
       "\t<tr><th scope=row>MOB</th><td> 1          </td><td>15409397.1  </td><td>15409397.05 </td><td>613.04035   </td><td>1.341315e-18</td></tr>\n",
       "\t<tr><th scope=row>HIP</th><td> 1          </td><td>  732652.6  </td><td>  732652.61 </td><td> 29.14751   </td><td>1.519221e-05</td></tr>\n",
       "\t<tr><th scope=row>Residuals</th><td>24          </td><td>  603264.6  </td><td>   25136.02 </td><td>       NA   </td><td>          NA</td></tr>\n",
       "</tbody>\n",
       "</table>\n"
      ],
      "text/latex": [
       "\\begin{tabular}{r|lllll}\n",
       "  & Df & Sum Sq & Mean Sq & F value & Pr(>F)\\\\\n",
       "\\hline\n",
       "\tAUD &  1           &  6817133.4   &  6817133.42  & 271.20969    & 1.397093e-14\\\\\n",
       "\tMOB &  1           & 15409397.1   & 15409397.05  & 613.04035    & 1.341315e-18\\\\\n",
       "\tHIP &  1           &   732652.6   &   732652.61  &  29.14751    & 1.519221e-05\\\\\n",
       "\tResiduals & 24           &   603264.6   &    25136.02  &        NA    &           NA\\\\\n",
       "\\end{tabular}\n"
      ],
      "text/markdown": [
       "\n",
       "| <!--/--> | Df | Sum Sq | Mean Sq | F value | Pr(>F) |\n",
       "|---|---|---|---|---|---|\n",
       "| AUD |  1           |  6817133.4   |  6817133.42  | 271.20969    | 1.397093e-14 |\n",
       "| MOB |  1           | 15409397.1   | 15409397.05  | 613.04035    | 1.341315e-18 |\n",
       "| HIP |  1           |   732652.6   |   732652.61  |  29.14751    | 1.519221e-05 |\n",
       "| Residuals | 24           |   603264.6   |    25136.02  |        NA    |           NA |\n",
       "\n"
      ],
      "text/plain": [
       "          Df Sum Sq     Mean Sq     F value   Pr(>F)      \n",
       "AUD        1  6817133.4  6817133.42 271.20969 1.397093e-14\n",
       "MOB        1 15409397.1 15409397.05 613.04035 1.341315e-18\n",
       "HIP        1   732652.6   732652.61  29.14751 1.519221e-05\n",
       "Residuals 24   603264.6    25136.02        NA           NA"
      ]
     },
     "metadata": {},
     "output_type": "display_data"
    }
   ],
   "source": [
    "regm=lm(BRW~AUD+MOB+HIP,data=phytobis)\n",
    "summary(regm)\n",
    "anova(regm)"
   ]
  },
  {
   "cell_type": "markdown",
   "id": "f7c0fa45",
   "metadata": {},
   "source": [
    "From these two tables above, we know that:\n",
    "   1. The mathematical form of this second model (with 3 variables) is: $BRW = 47.98*AUD - 2.44*MOB + 15.98*HIP - 312.69$\n",
    "   2. The model explains well the variation,as it has a high Coefficient confidence = $0.97$\n",
    "   2. The p-values are very low <<0,05 for both AUD and HIP variables except for MOB meaning that the null hypothesis is not rejected this case."
   ]
  },
  {
   "cell_type": "code",
   "execution_count": 12,
   "id": "92415df7",
   "metadata": {},
   "outputs": [
    {
     "name": "stdout",
     "output_type": "stream",
     "text": [
      "Start:  AIC=433.88\n",
      "BRW ~ 1\n",
      "\n",
      "       Df Sum of Sq      RSS    AIC\n",
      "+ HIP   1  73272731 11869487 378.74\n",
      "+ MOB   1  66447848 18694370 391.92\n",
      "+ AUD   1  23770396 61371823 426.39\n",
      "<none>              85142218 433.88\n",
      "\n",
      "Step:  AIC=378.74\n",
      "BRW ~ HIP\n",
      "\n",
      "       Df Sum of Sq      RSS    AIC\n",
      "+ MOB   1   2846939  9022548 372.79\n",
      "+ AUD   1   2013783  9855704 375.35\n",
      "<none>              11869487 378.74\n",
      "\n",
      "Step:  AIC=372.79\n",
      "BRW ~ HIP + MOB\n",
      "\n",
      "       Df Sum of Sq     RSS    AIC\n",
      "+ AUD   1   1910121 7112426 367.89\n",
      "<none>              9022548 372.79\n",
      "\n",
      "Step:  AIC=367.89\n",
      "BRW ~ HIP + MOB + AUD\n",
      "\n"
     ]
    },
    {
     "data": {
      "text/plain": [
       "\n",
       "Call:\n",
       "lm(formula = BRW ~ HIP + MOB + AUD, data = phyto)\n",
       "\n",
       "Coefficients:\n",
       "(Intercept)          HIP          MOB          AUD  \n",
       "   -1003.95        44.35       -29.24        52.82  \n"
      ]
     },
     "metadata": {},
     "output_type": "display_data"
    }
   ],
   "source": [
    "reg0 = lm(BRW ~ 1, data = phyto)\n",
    "step(reg0, scope=BRW~AUD + MOB + HIP, direction=\"forward\")"
   ]
  },
  {
   "cell_type": "markdown",
   "id": "efb29dca",
   "metadata": {},
   "source": [
    "This method uses a forward stepwise logistic regression consisting on a forward construction which usually yields to models with less explanatory variables. \n",
    "The forward selection starts with no predictors in the model, iteratively adds the most contributive predictors, and stops when the improvement is no longer statistically significant.\n",
    "\n",
    "To select the model which is best to fit for the data, Akaike Information Criterion is used. And the lower the best. And in this case, the less value of AIC is obtained for the mutlivariable model (AUD+HIP+MOB). "
   ]
  },
  {
   "cell_type": "markdown",
   "id": "7c551501",
   "metadata": {},
   "source": [
    "## Link between volume of the auditory part and diet"
   ]
  },
  {
   "cell_type": "markdown",
   "id": "9833f8ea",
   "metadata": {},
   "source": [
    "The most important sense for an insectivorous bat is echo localisation, which is an auditory ability. On the contrary, a nectar-feeding bat must rather privilege capacities related to spatial memory, capacities governed by the hippocampus. We therefore propose now to study whether diet and sensory capacities are linked. To do so, we ask ourselves if the volume of the auditory lobe and the diet are related"
   ]
  },
  {
   "cell_type": "code",
   "execution_count": 13,
   "id": "3d89eb78",
   "metadata": {},
   "outputs": [
    {
     "data": {
      "image/png": "[encoded data removed]",
      "text/plain": [
       "plot without title"
      ]
     },
     "metadata": {},
     "output_type": "display_data"
    },
    {
     "data": {
      "image/png": "[encoded data removed]",
      "text/plain": [
       "plot without title"
      ]
     },
     "metadata": {},
     "output_type": "display_data"
    }
   ],
   "source": [
    "myData$Diet_F = as.factor(myData$Diet)\n",
    "with(myData, plot(AUD~Diet))\n",
    "with(myData, plot(AUD~Diet_F))"
   ]
  },
  {
   "cell_type": "markdown",
   "id": "4778fc87",
   "metadata": {},
   "source": [
    "In my opinion, even the both graphs represent the same idea but still the first one is much better than the second, because we can clearly see how distributed data are for each auditory lobe variable as a function of diet factory."
   ]
  },
  {
   "cell_type": "code",
   "execution_count": 14,
   "id": "0b553d72",
   "metadata": {},
   "outputs": [
    {
     "data": {
      "text/html": [
       "<table>\n",
       "<thead><tr><th></th><th scope=col>Df</th><th scope=col>Sum Sq</th><th scope=col>Mean Sq</th><th scope=col>F value</th><th scope=col>Pr(&gt;F)</th></tr></thead>\n",
       "<tbody>\n",
       "\t<tr><th scope=row>Diet_F</th><td> 3        </td><td>  66.06941</td><td>22.02314  </td><td>0.9292727 </td><td>0.4323339 </td></tr>\n",
       "\t<tr><th scope=row>Residuals</th><td>59        </td><td>1398.26034</td><td>23.69933  </td><td>       NA </td><td>       NA </td></tr>\n",
       "</tbody>\n",
       "</table>\n"
      ],
      "text/latex": [
       "\\begin{tabular}{r|lllll}\n",
       "  & Df & Sum Sq & Mean Sq & F value & Pr(>F)\\\\\n",
       "\\hline\n",
       "\tDiet\\_F &  3         &   66.06941 & 22.02314   & 0.9292727  & 0.4323339 \\\\\n",
       "\tResiduals & 59         & 1398.26034 & 23.69933   &        NA  &        NA \\\\\n",
       "\\end{tabular}\n"
      ],
      "text/markdown": [
       "\n",
       "| <!--/--> | Df | Sum Sq | Mean Sq | F value | Pr(>F) |\n",
       "|---|---|---|---|---|---|\n",
       "| Diet_F |  3         |   66.06941 | 22.02314   | 0.9292727  | 0.4323339  |\n",
       "| Residuals | 59         | 1398.26034 | 23.69933   |        NA  |        NA  |\n",
       "\n"
      ],
      "text/plain": [
       "          Df Sum Sq     Mean Sq  F value   Pr(>F)   \n",
       "Diet_F     3   66.06941 22.02314 0.9292727 0.4323339\n",
       "Residuals 59 1398.26034 23.69933        NA        NA"
      ]
     },
     "metadata": {},
     "output_type": "display_data"
    }
   ],
   "source": [
    "lm = lm(AUD~Diet_F, data=myData)\n",
    "anova(lm)"
   ]
  },
  {
   "cell_type": "markdown",
   "id": "3ab1d865",
   "metadata": {},
   "source": [
    "First obvious remark is p-value equal to 0.5 is much bigger than 0.05. This means that the null hypothesis H0 is not rejected and Diet factor variable may has (or not) an influence on the auditory lobe variable. "
   ]
  }
 ],
 "metadata": {
  "kernelspec": {
   "display_name": "R",
   "language": "R",
   "name": "ir"
  },
  "language_info": {
   "codemirror_mode": "r",
   "file_extension": ".r",
   "mimetype": "text/x-r-source",
   "name": "R",
   "pygments_lexer": "r",
   "version": "3.6.1"
  }
 },
 "nbformat": 4,
 "nbformat_minor": 5
}
