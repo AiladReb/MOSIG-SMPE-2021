{
 "cells": [
  {
   "cell_type": "code",
   "execution_count": 49,
   "id": "53caa76a",
   "metadata": {},
   "outputs": [
    {
     "data": {
      "text/html": [
       "<table>\n",
       "<thead><tr><th scope=col>x1</th><th scope=col>x2</th><th scope=col>x3</th><th scope=col>x4</th><th scope=col>x5</th><th scope=col>x6</th><th scope=col>x7</th><th scope=col>x8</th><th scope=col>x9</th><th scope=col>x10</th><th scope=col>x11</th><th scope=col>y</th></tr></thead>\n",
       "<tbody>\n",
       "\t<tr><td>0.4836884 </td><td>0.2168115 </td><td>0.21132684</td><td>0.5397030 </td><td>0.06105826</td><td>0.5248428 </td><td>0.03088644</td><td>0.59304121</td><td>0.6606222 </td><td>0.1234155 </td><td>0.5355621 </td><td> 0.8160370</td></tr>\n",
       "\t<tr><td>0.8604431 </td><td>0.5912570 </td><td>0.02963426</td><td>0.5051715 </td><td>0.19581816</td><td>0.8123657 </td><td>0.49459219</td><td>0.21267843</td><td>0.4736995 </td><td>0.6210203 </td><td>0.5835177 </td><td> 1.2215612</td></tr>\n",
       "\t<tr><td>0.2176730 </td><td>0.1434068 </td><td>0.67201385</td><td>0.3676639 </td><td>0.75583622</td><td>0.3034500 </td><td>0.96769948</td><td>0.02348824</td><td>0.7672693 </td><td>0.4536742 </td><td>0.6038529 </td><td>-0.1691082</td></tr>\n",
       "\t<tr><td>0.6259104 </td><td>0.3234977 </td><td>0.31920588</td><td>0.9004644 </td><td>0.02983199</td><td>0.1302142 </td><td>0.90634057</td><td>0.93286030</td><td>0.3120143 </td><td>0.6184546 </td><td>0.2216897 </td><td> 2.3260498</td></tr>\n",
       "\t<tr><td>0.0058943 </td><td>0.8192693 </td><td>0.09853301</td><td>0.9411790 </td><td>0.60270044</td><td>0.9675029 </td><td>0.41025904</td><td>0.54809030</td><td>0.6095711 </td><td>0.6276700 </td><td>0.6395357 </td><td> 0.6200661</td></tr>\n",
       "\t<tr><td>0.3878314 </td><td>0.5073766 </td><td>0.79121740</td><td>0.9049580 </td><td>0.10006432</td><td>0.9842717 </td><td>0.15395312</td><td>0.02671205</td><td>0.7346819 </td><td>0.2371805 </td><td>0.7265276 </td><td> 0.7221451</td></tr>\n",
       "</tbody>\n",
       "</table>\n"
      ],
      "text/latex": [
       "\\begin{tabular}{r|llllllllllll}\n",
       " x1 & x2 & x3 & x4 & x5 & x6 & x7 & x8 & x9 & x10 & x11 & y\\\\\n",
       "\\hline\n",
       "\t 0.4836884  & 0.2168115  & 0.21132684 & 0.5397030  & 0.06105826 & 0.5248428  & 0.03088644 & 0.59304121 & 0.6606222  & 0.1234155  & 0.5355621  &  0.8160370\\\\\n",
       "\t 0.8604431  & 0.5912570  & 0.02963426 & 0.5051715  & 0.19581816 & 0.8123657  & 0.49459219 & 0.21267843 & 0.4736995  & 0.6210203  & 0.5835177  &  1.2215612\\\\\n",
       "\t 0.2176730  & 0.1434068  & 0.67201385 & 0.3676639  & 0.75583622 & 0.3034500  & 0.96769948 & 0.02348824 & 0.7672693  & 0.4536742  & 0.6038529  & -0.1691082\\\\\n",
       "\t 0.6259104  & 0.3234977  & 0.31920588 & 0.9004644  & 0.02983199 & 0.1302142  & 0.90634057 & 0.93286030 & 0.3120143  & 0.6184546  & 0.2216897  &  2.3260498\\\\\n",
       "\t 0.0058943  & 0.8192693  & 0.09853301 & 0.9411790  & 0.60270044 & 0.9675029  & 0.41025904 & 0.54809030 & 0.6095711  & 0.6276700  & 0.6395357  &  0.6200661\\\\\n",
       "\t 0.3878314  & 0.5073766  & 0.79121740 & 0.9049580  & 0.10006432 & 0.9842717  & 0.15395312 & 0.02671205 & 0.7346819  & 0.2371805  & 0.7265276  &  0.7221451\\\\\n",
       "\\end{tabular}\n"
      ],
      "text/markdown": [
       "\n",
       "| x1 | x2 | x3 | x4 | x5 | x6 | x7 | x8 | x9 | x10 | x11 | y |\n",
       "|---|---|---|---|---|---|---|---|---|---|---|---|\n",
       "| 0.4836884  | 0.2168115  | 0.21132684 | 0.5397030  | 0.06105826 | 0.5248428  | 0.03088644 | 0.59304121 | 0.6606222  | 0.1234155  | 0.5355621  |  0.8160370 |\n",
       "| 0.8604431  | 0.5912570  | 0.02963426 | 0.5051715  | 0.19581816 | 0.8123657  | 0.49459219 | 0.21267843 | 0.4736995  | 0.6210203  | 0.5835177  |  1.2215612 |\n",
       "| 0.2176730  | 0.1434068  | 0.67201385 | 0.3676639  | 0.75583622 | 0.3034500  | 0.96769948 | 0.02348824 | 0.7672693  | 0.4536742  | 0.6038529  | -0.1691082 |\n",
       "| 0.6259104  | 0.3234977  | 0.31920588 | 0.9004644  | 0.02983199 | 0.1302142  | 0.90634057 | 0.93286030 | 0.3120143  | 0.6184546  | 0.2216897  |  2.3260498 |\n",
       "| 0.0058943  | 0.8192693  | 0.09853301 | 0.9411790  | 0.60270044 | 0.9675029  | 0.41025904 | 0.54809030 | 0.6095711  | 0.6276700  | 0.6395357  |  0.6200661 |\n",
       "| 0.3878314  | 0.5073766  | 0.79121740 | 0.9049580  | 0.10006432 | 0.9842717  | 0.15395312 | 0.02671205 | 0.7346819  | 0.2371805  | 0.7265276  |  0.7221451 |\n",
       "\n"
      ],
      "text/plain": [
       "  x1        x2        x3         x4        x5         x6        x7        \n",
       "1 0.4836884 0.2168115 0.21132684 0.5397030 0.06105826 0.5248428 0.03088644\n",
       "2 0.8604431 0.5912570 0.02963426 0.5051715 0.19581816 0.8123657 0.49459219\n",
       "3 0.2176730 0.1434068 0.67201385 0.3676639 0.75583622 0.3034500 0.96769948\n",
       "4 0.6259104 0.3234977 0.31920588 0.9004644 0.02983199 0.1302142 0.90634057\n",
       "5 0.0058943 0.8192693 0.09853301 0.9411790 0.60270044 0.9675029 0.41025904\n",
       "6 0.3878314 0.5073766 0.79121740 0.9049580 0.10006432 0.9842717 0.15395312\n",
       "  x8         x9        x10       x11       y         \n",
       "1 0.59304121 0.6606222 0.1234155 0.5355621  0.8160370\n",
       "2 0.21267843 0.4736995 0.6210203 0.5835177  1.2215612\n",
       "3 0.02348824 0.7672693 0.4536742 0.6038529 -0.1691082\n",
       "4 0.93286030 0.3120143 0.6184546 0.2216897  2.3260498\n",
       "5 0.54809030 0.6095711 0.6276700 0.6395357  0.6200661\n",
       "6 0.02671205 0.7346819 0.2371805 0.7265276  0.7221451"
      ]
     },
     "metadata": {},
     "output_type": "display_data"
    }
   ],
   "source": [
    "mydata <- read.table(file=\"doe.csv\", sep=\",\", header=T)\n",
    "mydata$Date <- NULL\n",
    "mydata$y <- as.numeric(mydata$y)\n",
    "head(mydata)\n"
   ]
  },
  {
   "cell_type": "code",
   "execution_count": 50,
   "id": "0e8dee0a",
   "metadata": {},
   "outputs": [
    {
     "data": {
      "image/png": "[encoded data removed]",
      "text/plain": [
       "Plot with title \"\""
      ]
     },
     "metadata": {},
     "output_type": "display_data"
    }
   ],
   "source": [
    "mat.cor=cor(mydata)\n",
    "corrplot(mat.cor, type=\"upper\")"
   ]
  },
  {
   "cell_type": "code",
   "execution_count": 51,
   "id": "1ef9679f",
   "metadata": {},
   "outputs": [
    {
     "data": {
      "text/plain": [
       "\n",
       "Call:\n",
       "lm(formula = y ~ x1 + x2 + x3 + x4 + x5 + x6 + x7 + x8 + x9 + \n",
       "    x10 + x11, data = mydata)\n",
       "\n",
       "Residuals:\n",
       "     Min       1Q   Median       3Q      Max \n",
       "-1.81219 -0.18755  0.07208  0.20554  0.98200 \n",
       "\n",
       "Coefficients:\n",
       "             Estimate Std. Error t value Pr(>|t|)    \n",
       "(Intercept)  1.155459   0.375080   3.081  0.00303 ** \n",
       "x1           1.100341   0.233064   4.721 1.29e-05 ***\n",
       "x2           0.366874   0.214347   1.712  0.09174 .  \n",
       "x3           0.065330   0.227528   0.287  0.77493    \n",
       "x4           1.181140   0.222366   5.312 1.42e-06 ***\n",
       "x5           0.212381   0.232657   0.913  0.36469    \n",
       "x6           0.049375   0.197028   0.251  0.80291    \n",
       "x7          -0.172994   0.205581  -0.841  0.40316    \n",
       "x8          -0.416209   0.204915  -2.031  0.04634 *  \n",
       "x9          -2.602684   0.285740  -9.109 3.19e-13 ***\n",
       "x10          0.008044   0.206270   0.039  0.96901    \n",
       "x11          0.080599   0.239218   0.337  0.73726    \n",
       "---\n",
       "Signif. codes:  0 '***' 0.001 '**' 0.01 '*' 0.05 '.' 0.1 ' ' 1\n",
       "\n",
       "Residual standard error: 0.5061 on 65 degrees of freedom\n",
       "Multiple R-squared:  0.7419,\tAdjusted R-squared:  0.6983 \n",
       "F-statistic: 16.99 on 11 and 65 DF,  p-value: 3.638e-15\n"
      ]
     },
     "metadata": {},
     "output_type": "display_data"
    }
   ],
   "source": [
    "reg1=lm(y~x1 + x2 + x3 + x4 + x5 + x6 + x7 + x8 + x9 + x10 + x11, data=mydata)\n",
    "summary(reg1)"
   ]
  },
  {
   "cell_type": "code",
   "execution_count": 52,
   "id": "f33abd77",
   "metadata": {},
   "outputs": [
    {
     "data": {
      "text/html": [
       "<table>\n",
       "<thead><tr><th></th><th scope=col>Df</th><th scope=col>Sum Sq</th><th scope=col>Mean Sq</th><th scope=col>F value</th><th scope=col>Pr(&gt;F)</th></tr></thead>\n",
       "<tbody>\n",
       "\t<tr><th scope=row>x1</th><td> 1          </td><td>16.264196344</td><td>16.264196344</td><td>63.487678868</td><td>3.327955e-11</td></tr>\n",
       "\t<tr><th scope=row>x2</th><td> 1          </td><td> 3.229025894</td><td> 3.229025894</td><td>12.604579694</td><td>7.212864e-04</td></tr>\n",
       "\t<tr><th scope=row>x3</th><td> 1          </td><td> 1.683608201</td><td> 1.683608201</td><td> 6.572004821</td><td>1.268154e-02</td></tr>\n",
       "\t<tr><th scope=row>x4</th><td> 1          </td><td> 3.278312022</td><td> 3.278312022</td><td>12.796969272</td><td>6.618900e-04</td></tr>\n",
       "\t<tr><th scope=row>x5</th><td> 1          </td><td> 0.011507742</td><td> 0.011507742</td><td> 0.044920744</td><td>8.328130e-01</td></tr>\n",
       "\t<tr><th scope=row>x6</th><td> 1          </td><td> 0.076714157</td><td> 0.076714157</td><td> 0.299455546</td><td>5.860980e-01</td></tr>\n",
       "\t<tr><th scope=row>x7</th><td> 1          </td><td> 0.326296038</td><td> 0.326296038</td><td> 1.273704378</td><td>2.632212e-01</td></tr>\n",
       "\t<tr><th scope=row>x8</th><td> 1          </td><td> 0.207873370</td><td> 0.207873370</td><td> 0.811438664</td><td>3.710208e-01</td></tr>\n",
       "\t<tr><th scope=row>x9</th><td> 1          </td><td>22.763822855</td><td>22.763822855</td><td>88.859126182</td><td>8.842585e-14</td></tr>\n",
       "\t<tr><th scope=row>x10</th><td> 1          </td><td> 0.001224365</td><td> 0.001224365</td><td> 0.004779337</td><td>9.450962e-01</td></tr>\n",
       "\t<tr><th scope=row>x11</th><td> 1          </td><td> 0.029081530</td><td> 0.029081530</td><td> 0.113520445</td><td>7.372567e-01</td></tr>\n",
       "\t<tr><th scope=row>Residuals</th><td>65          </td><td>16.651620932</td><td> 0.256178784</td><td>          NA</td><td>          NA</td></tr>\n",
       "</tbody>\n",
       "</table>\n"
      ],
      "text/latex": [
       "\\begin{tabular}{r|lllll}\n",
       "  & Df & Sum Sq & Mean Sq & F value & Pr(>F)\\\\\n",
       "\\hline\n",
       "\tx1 &  1           & 16.264196344 & 16.264196344 & 63.487678868 & 3.327955e-11\\\\\n",
       "\tx2 &  1           &  3.229025894 &  3.229025894 & 12.604579694 & 7.212864e-04\\\\\n",
       "\tx3 &  1           &  1.683608201 &  1.683608201 &  6.572004821 & 1.268154e-02\\\\\n",
       "\tx4 &  1           &  3.278312022 &  3.278312022 & 12.796969272 & 6.618900e-04\\\\\n",
       "\tx5 &  1           &  0.011507742 &  0.011507742 &  0.044920744 & 8.328130e-01\\\\\n",
       "\tx6 &  1           &  0.076714157 &  0.076714157 &  0.299455546 & 5.860980e-01\\\\\n",
       "\tx7 &  1           &  0.326296038 &  0.326296038 &  1.273704378 & 2.632212e-01\\\\\n",
       "\tx8 &  1           &  0.207873370 &  0.207873370 &  0.811438664 & 3.710208e-01\\\\\n",
       "\tx9 &  1           & 22.763822855 & 22.763822855 & 88.859126182 & 8.842585e-14\\\\\n",
       "\tx10 &  1           &  0.001224365 &  0.001224365 &  0.004779337 & 9.450962e-01\\\\\n",
       "\tx11 &  1           &  0.029081530 &  0.029081530 &  0.113520445 & 7.372567e-01\\\\\n",
       "\tResiduals & 65           & 16.651620932 &  0.256178784 &           NA &           NA\\\\\n",
       "\\end{tabular}\n"
      ],
      "text/markdown": [
       "\n",
       "| <!--/--> | Df | Sum Sq | Mean Sq | F value | Pr(>F) |\n",
       "|---|---|---|---|---|---|\n",
       "| x1 |  1           | 16.264196344 | 16.264196344 | 63.487678868 | 3.327955e-11 |\n",
       "| x2 |  1           |  3.229025894 |  3.229025894 | 12.604579694 | 7.212864e-04 |\n",
       "| x3 |  1           |  1.683608201 |  1.683608201 |  6.572004821 | 1.268154e-02 |\n",
       "| x4 |  1           |  3.278312022 |  3.278312022 | 12.796969272 | 6.618900e-04 |\n",
       "| x5 |  1           |  0.011507742 |  0.011507742 |  0.044920744 | 8.328130e-01 |\n",
       "| x6 |  1           |  0.076714157 |  0.076714157 |  0.299455546 | 5.860980e-01 |\n",
       "| x7 |  1           |  0.326296038 |  0.326296038 |  1.273704378 | 2.632212e-01 |\n",
       "| x8 |  1           |  0.207873370 |  0.207873370 |  0.811438664 | 3.710208e-01 |\n",
       "| x9 |  1           | 22.763822855 | 22.763822855 | 88.859126182 | 8.842585e-14 |\n",
       "| x10 |  1           |  0.001224365 |  0.001224365 |  0.004779337 | 9.450962e-01 |\n",
       "| x11 |  1           |  0.029081530 |  0.029081530 |  0.113520445 | 7.372567e-01 |\n",
       "| Residuals | 65           | 16.651620932 |  0.256178784 |           NA |           NA |\n",
       "\n"
      ],
      "text/plain": [
       "          Df Sum Sq       Mean Sq      F value      Pr(>F)      \n",
       "x1         1 16.264196344 16.264196344 63.487678868 3.327955e-11\n",
       "x2         1  3.229025894  3.229025894 12.604579694 7.212864e-04\n",
       "x3         1  1.683608201  1.683608201  6.572004821 1.268154e-02\n",
       "x4         1  3.278312022  3.278312022 12.796969272 6.618900e-04\n",
       "x5         1  0.011507742  0.011507742  0.044920744 8.328130e-01\n",
       "x6         1  0.076714157  0.076714157  0.299455546 5.860980e-01\n",
       "x7         1  0.326296038  0.326296038  1.273704378 2.632212e-01\n",
       "x8         1  0.207873370  0.207873370  0.811438664 3.710208e-01\n",
       "x9         1 22.763822855 22.763822855 88.859126182 8.842585e-14\n",
       "x10        1  0.001224365  0.001224365  0.004779337 9.450962e-01\n",
       "x11        1  0.029081530  0.029081530  0.113520445 7.372567e-01\n",
       "Residuals 65 16.651620932  0.256178784           NA           NA"
      ]
     },
     "metadata": {},
     "output_type": "display_data"
    }
   ],
   "source": [
    "anova(reg1)"
   ]
  },
  {
   "cell_type": "code",
   "execution_count": 53,
   "id": "3ebf7ede",
   "metadata": {},
   "outputs": [
    {
     "data": {
      "text/plain": [
       "\n",
       "Call:\n",
       "lm(formula = y ~ x1 + x4 + x9, data = mydata)\n",
       "\n",
       "Residuals:\n",
       "     Min       1Q   Median       3Q      Max \n",
       "-1.87747 -0.18116 -0.01041  0.29428  0.91416 \n",
       "\n",
       "Coefficients:\n",
       "            Estimate Std. Error t value Pr(>|t|)    \n",
       "(Intercept)   1.2299     0.1999   6.154 3.69e-08 ***\n",
       "x1            1.1974     0.2198   5.446 6.60e-07 ***\n",
       "x4            1.1479     0.2108   5.445 6.63e-07 ***\n",
       "x9           -2.5936     0.2630  -9.861 4.62e-15 ***\n",
       "---\n",
       "Signif. codes:  0 '***' 0.001 '**' 0.01 '*' 0.05 '.' 0.1 ' ' 1\n",
       "\n",
       "Residual standard error: 0.5133 on 73 degrees of freedom\n",
       "Multiple R-squared:  0.7019,\tAdjusted R-squared:  0.6896 \n",
       "F-statistic: 57.29 on 3 and 73 DF,  p-value: < 2.2e-16\n"
      ]
     },
     "metadata": {},
     "output_type": "display_data"
    }
   ],
   "source": [
    "reg2 <- lm(y ~ x1 + x4 + x9, data=mydata)\n",
    "summary(reg2)"
   ]
  },
  {
   "cell_type": "code",
   "execution_count": 54,
   "id": "e78a0824",
   "metadata": {},
   "outputs": [
    {
     "data": {
      "text/html": [
       "<table>\n",
       "<thead><tr><th></th><th scope=col>Df</th><th scope=col>Sum Sq</th><th scope=col>Mean Sq</th><th scope=col>F value</th><th scope=col>Pr(&gt;F)</th></tr></thead>\n",
       "<tbody>\n",
       "\t<tr><th scope=row>x1</th><td> 1          </td><td>16.264196   </td><td>16.2641963  </td><td>61.72443    </td><td>2.619233e-11</td></tr>\n",
       "\t<tr><th scope=row>x4</th><td> 1          </td><td> 3.403274   </td><td> 3.4032744  </td><td>12.91580    </td><td>5.884254e-04</td></tr>\n",
       "\t<tr><th scope=row>x9</th><td> 1          </td><td>25.620539   </td><td>25.6205387  </td><td>97.23279    </td><td>4.617077e-15</td></tr>\n",
       "\t<tr><th scope=row>Residuals</th><td>73          </td><td>19.235274   </td><td> 0.2634969  </td><td>      NA    </td><td>          NA</td></tr>\n",
       "</tbody>\n",
       "</table>\n"
      ],
      "text/latex": [
       "\\begin{tabular}{r|lllll}\n",
       "  & Df & Sum Sq & Mean Sq & F value & Pr(>F)\\\\\n",
       "\\hline\n",
       "\tx1 &  1           & 16.264196    & 16.2641963   & 61.72443     & 2.619233e-11\\\\\n",
       "\tx4 &  1           &  3.403274    &  3.4032744   & 12.91580     & 5.884254e-04\\\\\n",
       "\tx9 &  1           & 25.620539    & 25.6205387   & 97.23279     & 4.617077e-15\\\\\n",
       "\tResiduals & 73           & 19.235274    &  0.2634969   &       NA     &           NA\\\\\n",
       "\\end{tabular}\n"
      ],
      "text/markdown": [
       "\n",
       "| <!--/--> | Df | Sum Sq | Mean Sq | F value | Pr(>F) |\n",
       "|---|---|---|---|---|---|\n",
       "| x1 |  1           | 16.264196    | 16.2641963   | 61.72443     | 2.619233e-11 |\n",
       "| x4 |  1           |  3.403274    |  3.4032744   | 12.91580     | 5.884254e-04 |\n",
       "| x9 |  1           | 25.620539    | 25.6205387   | 97.23279     | 4.617077e-15 |\n",
       "| Residuals | 73           | 19.235274    |  0.2634969   |       NA     |           NA |\n",
       "\n"
      ],
      "text/plain": [
       "          Df Sum Sq    Mean Sq    F value  Pr(>F)      \n",
       "x1         1 16.264196 16.2641963 61.72443 2.619233e-11\n",
       "x4         1  3.403274  3.4032744 12.91580 5.884254e-04\n",
       "x9         1 25.620539 25.6205387 97.23279 4.617077e-15\n",
       "Residuals 73 19.235274  0.2634969       NA           NA"
      ]
     },
     "metadata": {},
     "output_type": "display_data"
    }
   ],
   "source": [
    "anova(reg2)"
   ]
  },
  {
   "cell_type": "code",
   "execution_count": 55,
   "id": "364944b9",
   "metadata": {},
   "outputs": [
    {
     "data": {
      "text/plain": [
       "\n",
       "Call:\n",
       "lm(formula = y ~ poly(x1, 2) + poly(x4, 2) + poly(x9, 2), data = mydata)\n",
       "\n",
       "Residuals:\n",
       "     Min       1Q   Median       3Q      Max \n",
       "-1.24737 -0.26952 -0.04061  0.31095  0.84998 \n",
       "\n",
       "Coefficients:\n",
       "             Estimate Std. Error t value Pr(>|t|)    \n",
       "(Intercept)   1.26348    0.04931  25.622  < 2e-16 ***\n",
       "poly(x1, 2)1  2.68736    0.45958   5.847 1.45e-07 ***\n",
       "poly(x1, 2)2 -2.32763    0.44123  -5.275 1.41e-06 ***\n",
       "poly(x4, 2)1  2.92422    0.45159   6.475 1.11e-08 ***\n",
       "poly(x4, 2)2 -0.50135    0.43779  -1.145   0.2560    \n",
       "poly(x9, 2)1 -5.30252    0.44667 -11.871  < 2e-16 ***\n",
       "poly(x9, 2)2 -0.78639    0.45403  -1.732   0.0877 .  \n",
       "---\n",
       "Signif. codes:  0 '***' 0.001 '**' 0.01 '*' 0.05 '.' 0.1 ' ' 1\n",
       "\n",
       "Residual standard error: 0.4327 on 70 degrees of freedom\n",
       "Multiple R-squared:  0.7969,\tAdjusted R-squared:  0.7795 \n",
       "F-statistic: 45.77 on 6 and 70 DF,  p-value: < 2.2e-16\n"
      ]
     },
     "metadata": {},
     "output_type": "display_data"
    }
   ],
   "source": [
    "reg3 <- lm(y ~ poly(x1,2) + poly(x4,2) + poly(x9,2), data=mydata)\n",
    "summary(reg3)"
   ]
  },
  {
   "cell_type": "code",
   "execution_count": 56,
   "id": "6ba47804",
   "metadata": {},
   "outputs": [
    {
     "data": {
      "text/html": [
       "<table>\n",
       "<thead><tr><th></th><th scope=col>Df</th><th scope=col>Sum Sq</th><th scope=col>Mean Sq</th><th scope=col>F value</th><th scope=col>Pr(&gt;F)</th></tr></thead>\n",
       "<tbody>\n",
       "\t<tr><th scope=row>poly(x1, 2)</th><td> 2          </td><td>21.583965   </td><td>10.7919823  </td><td>57.637929   </td><td>1.602405e-15</td></tr>\n",
       "\t<tr><th scope=row>poly(x4, 2)</th><td> 2          </td><td> 3.268095   </td><td> 1.6340474  </td><td> 8.727137   </td><td>4.131380e-04</td></tr>\n",
       "\t<tr><th scope=row>poly(x9, 2)</th><td> 2          </td><td>26.564599   </td><td>13.2822993  </td><td>70.938240   </td><td>1.463980e-17</td></tr>\n",
       "\t<tr><th scope=row>Residuals</th><td>70          </td><td>13.106626   </td><td> 0.1872375  </td><td>       NA   </td><td>          NA</td></tr>\n",
       "</tbody>\n",
       "</table>\n"
      ],
      "text/latex": [
       "\\begin{tabular}{r|lllll}\n",
       "  & Df & Sum Sq & Mean Sq & F value & Pr(>F)\\\\\n",
       "\\hline\n",
       "\tpoly(x1, 2) &  2           & 21.583965    & 10.7919823   & 57.637929    & 1.602405e-15\\\\\n",
       "\tpoly(x4, 2) &  2           &  3.268095    &  1.6340474   &  8.727137    & 4.131380e-04\\\\\n",
       "\tpoly(x9, 2) &  2           & 26.564599    & 13.2822993   & 70.938240    & 1.463980e-17\\\\\n",
       "\tResiduals & 70           & 13.106626    &  0.1872375   &        NA    &           NA\\\\\n",
       "\\end{tabular}\n"
      ],
      "text/markdown": [
       "\n",
       "| <!--/--> | Df | Sum Sq | Mean Sq | F value | Pr(>F) |\n",
       "|---|---|---|---|---|---|\n",
       "| poly(x1, 2) |  2           | 21.583965    | 10.7919823   | 57.637929    | 1.602405e-15 |\n",
       "| poly(x4, 2) |  2           |  3.268095    |  1.6340474   |  8.727137    | 4.131380e-04 |\n",
       "| poly(x9, 2) |  2           | 26.564599    | 13.2822993   | 70.938240    | 1.463980e-17 |\n",
       "| Residuals | 70           | 13.106626    |  0.1872375   |        NA    |           NA |\n",
       "\n"
      ],
      "text/plain": [
       "            Df Sum Sq    Mean Sq    F value   Pr(>F)      \n",
       "poly(x1, 2)  2 21.583965 10.7919823 57.637929 1.602405e-15\n",
       "poly(x4, 2)  2  3.268095  1.6340474  8.727137 4.131380e-04\n",
       "poly(x9, 2)  2 26.564599 13.2822993 70.938240 1.463980e-17\n",
       "Residuals   70 13.106626  0.1872375        NA           NA"
      ]
     },
     "metadata": {},
     "output_type": "display_data"
    }
   ],
   "source": [
    "anova(reg3)"
   ]
  },
  {
   "cell_type": "code",
   "execution_count": 57,
   "id": "69ea2a85",
   "metadata": {
    "scrolled": false
   },
   "outputs": [
    {
     "data": {
      "text/plain": [
       "\n",
       "Call:\n",
       "lm(formula = y ~ poly(x1, 2) + x4 + x9, data = mydata)\n",
       "\n",
       "Residuals:\n",
       "     Min       1Q   Median       3Q      Max \n",
       "-1.21689 -0.29108 -0.07002  0.29694  0.83012 \n",
       "\n",
       "Coefficients:\n",
       "             Estimate Std. Error t value Pr(>|t|)    \n",
       "(Intercept)    1.8813     0.1397  13.470  < 2e-16 ***\n",
       "poly(x1, 2)1   2.8773     0.4517   6.370 1.57e-08 ***\n",
       "poly(x1, 2)2  -2.3012     0.4405  -5.225 1.63e-06 ***\n",
       "x4             1.1165     0.1809   6.174 3.54e-08 ***\n",
       "x9            -2.6071     0.2255 -11.560  < 2e-16 ***\n",
       "---\n",
       "Signif. codes:  0 '***' 0.001 '**' 0.01 '*' 0.05 '.' 0.1 ' ' 1\n",
       "\n",
       "Residual standard error: 0.4401 on 72 degrees of freedom\n",
       "Multiple R-squared:  0.7838,\tAdjusted R-squared:  0.7718 \n",
       "F-statistic: 65.27 on 4 and 72 DF,  p-value: < 2.2e-16\n"
      ]
     },
     "metadata": {},
     "output_type": "display_data"
    }
   ],
   "source": [
    "reg4 <- lm(y ~ poly(x1,2) + x4 + x9, data=mydata)\n",
    "summary(reg4)"
   ]
  },
  {
   "cell_type": "code",
   "execution_count": 58,
   "id": "8cfe0198",
   "metadata": {},
   "outputs": [
    {
     "data": {
      "text/html": [
       "<table>\n",
       "<thead><tr><th></th><th scope=col>Df</th><th scope=col>Sum Sq</th><th scope=col>Mean Sq</th><th scope=col>F value</th><th scope=col>Pr(&gt;F)</th></tr></thead>\n",
       "<tbody>\n",
       "\t<tr><th scope=row>poly(x1, 2)</th><td> 2          </td><td>21.583965   </td><td>10.7919823  </td><td> 55.71011   </td><td>2.398112e-15</td></tr>\n",
       "\t<tr><th scope=row>x4</th><td> 1          </td><td> 3.106318   </td><td> 3.1063180  </td><td> 16.03536   </td><td>1.494825e-04</td></tr>\n",
       "\t<tr><th scope=row>x9</th><td> 1          </td><td>25.885395   </td><td>25.8853949  </td><td>133.62497   </td><td>4.523669e-18</td></tr>\n",
       "\t<tr><th scope=row>Residuals</th><td>72          </td><td>13.947606   </td><td> 0.1937167  </td><td>       NA   </td><td>          NA</td></tr>\n",
       "</tbody>\n",
       "</table>\n"
      ],
      "text/latex": [
       "\\begin{tabular}{r|lllll}\n",
       "  & Df & Sum Sq & Mean Sq & F value & Pr(>F)\\\\\n",
       "\\hline\n",
       "\tpoly(x1, 2) &  2           & 21.583965    & 10.7919823   &  55.71011    & 2.398112e-15\\\\\n",
       "\tx4 &  1           &  3.106318    &  3.1063180   &  16.03536    & 1.494825e-04\\\\\n",
       "\tx9 &  1           & 25.885395    & 25.8853949   & 133.62497    & 4.523669e-18\\\\\n",
       "\tResiduals & 72           & 13.947606    &  0.1937167   &        NA    &           NA\\\\\n",
       "\\end{tabular}\n"
      ],
      "text/markdown": [
       "\n",
       "| <!--/--> | Df | Sum Sq | Mean Sq | F value | Pr(>F) |\n",
       "|---|---|---|---|---|---|\n",
       "| poly(x1, 2) |  2           | 21.583965    | 10.7919823   |  55.71011    | 2.398112e-15 |\n",
       "| x4 |  1           |  3.106318    |  3.1063180   |  16.03536    | 1.494825e-04 |\n",
       "| x9 |  1           | 25.885395    | 25.8853949   | 133.62497    | 4.523669e-18 |\n",
       "| Residuals | 72           | 13.947606    |  0.1937167   |        NA    |           NA |\n",
       "\n"
      ],
      "text/plain": [
       "            Df Sum Sq    Mean Sq    F value   Pr(>F)      \n",
       "poly(x1, 2)  2 21.583965 10.7919823  55.71011 2.398112e-15\n",
       "x4           1  3.106318  3.1063180  16.03536 1.494825e-04\n",
       "x9           1 25.885395 25.8853949 133.62497 4.523669e-18\n",
       "Residuals   72 13.947606  0.1937167        NA           NA"
      ]
     },
     "metadata": {},
     "output_type": "display_data"
    }
   ],
   "source": [
    "anova(reg4)"
   ]
  }
 ],
 "metadata": {
  "kernelspec": {
   "display_name": "R",
   "language": "R",
   "name": "ir"
  },
  "language_info": {
   "codemirror_mode": "r",
   "file_extension": ".r",
   "mimetype": "text/x-r-source",
   "name": "R",
   "pygments_lexer": "r",
   "version": "3.6.1"
  }
 },
 "nbformat": 4,
 "nbformat_minor": 5
}
